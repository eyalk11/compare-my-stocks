{
 "cells": [
  {
   "cell_type": "code",
   "execution_count": null,
   "id": "5d02c843",
   "metadata": {},
   "outputs": [],
   "source": [
    "try:\n",
    "    from compare_my_stocks.jupyter.jupytertools import load_data\n",
    "    mydata=load_data()\n",
    "except:\n",
    "    import traceback\n",
    "    traceback.print_exc()\n",
    "    "
   ]
  },
  {
   "cell_type": "code",
   "execution_count": null,
   "id": "109df336",
   "metadata": {},
   "outputs": [],
   "source": [
    "print(\"Corelation\")\n",
    "mydata.act.df.corr(method='pearson')"
   ]
  },
  {
   "cell_type": "code",
   "execution_count": null,
   "id": "227faa73",
   "metadata": {},
   "outputs": [],
   "source": [
    "print(\"Data\")\n",
    "mydata.act.df"
   ]
  },
  {
   "cell_type": "code",
   "execution_count": null,
   "id": "a2607677",
   "metadata": {},
   "outputs": [],
   "source": [
    "print(\"Data before processing\")\n",
    "mydata.afterdata"
   ]
  }
 ],
 "metadata": {
  "kernelspec": {
   "display_name": "Python 3 (ipykernel)",
   "language": "python",
   "name": "python3"
  },
  "language_info": {
   "codemirror_mode": {
    "name": "ipython",
    "version": 3
   },
   "file_extension": ".py",
   "mimetype": "text/x-python",
   "name": "python",
   "nbconvert_exporter": "python",
   "pygments_lexer": "ipython3",
   "version": "3.9.6"
  }
 },
 "nbformat": 4,
 "nbformat_minor": 5
}
